{
 "cells": [
  {
   "cell_type": "code",
   "execution_count": 1,
   "metadata": {},
   "outputs": [],
   "source": [
    "import numpy as np\n",
    "import pandas as pd"
   ]
  },
  {
   "cell_type": "code",
   "execution_count": 2,
   "metadata": {},
   "outputs": [],
   "source": [
    "def ConProb(pi, x, emis):\n",
    "    probability = 1\n",
    "    for i in range(len(pi)):\n",
    "        probability *= emis.loc[pi[i], x[i]]\n",
    "    return probability"
   ]
  },
  {
   "cell_type": "code",
   "execution_count": 3,
   "metadata": {},
   "outputs": [
    {
     "name": "stdout",
     "output_type": "stream",
     "text": [
      "4.253231348136941e-29\n"
     ]
    }
   ],
   "source": [
    "with open(\"/Users/shayanaryania/Desktop/University/Rosalind/Compute_the_Probability_of_an_Outcome_Given_a_Hidden_Path/rosalind_ba10b.txt\", \"r\") as file:\n",
    "    x = file.readline().strip()\n",
    "    file.readline() \n",
    "    sigma = file.readline().strip().split()\n",
    "    file.readline() \n",
    "    pi = file.readline().strip()\n",
    "    file.readline() \n",
    "    States = file.readline().strip().split()\n",
    "    file.readline() \n",
    "    emis = pd.DataFrame(np.full((len(States), len(sigma)), 0), index=States, columns=sigma)\n",
    "    file.readline() \n",
    "\n",
    "    for line in file:\n",
    "        l = line.strip().split()\n",
    "        for i in range(1, len(l)):\n",
    "            emis.loc[l[0], sigma[i-1]] = float(l[i])\n",
    "\n",
    "p = ConProb(pi, x, emis)\n",
    "print(p)"
   ]
  }
 ],
 "metadata": {
  "kernelspec": {
   "display_name": "Python 3",
   "language": "python",
   "name": "python3"
  },
  "language_info": {
   "codemirror_mode": {
    "name": "ipython",
    "version": 3
   },
   "file_extension": ".py",
   "mimetype": "text/x-python",
   "name": "python",
   "nbconvert_exporter": "python",
   "pygments_lexer": "ipython3",
   "version": "3.11.4"
  }
 },
 "nbformat": 4,
 "nbformat_minor": 2
}
